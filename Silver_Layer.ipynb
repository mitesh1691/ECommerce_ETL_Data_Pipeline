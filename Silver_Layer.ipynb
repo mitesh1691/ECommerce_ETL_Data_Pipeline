{
 "cells": [
  {
   "cell_type": "code",
   "execution_count": 0,
   "metadata": {
    "application/vnd.databricks.v1+cell": {
     "cellMetadata": {
      "byteLimit": 2048000,
      "rowLimit": 10000
     },
     "inputWidgets": {},
     "nuid": "8ca45e4c-f7c9-4b54-b381-63f1652204d8",
     "showTitle": false,
     "tableResultSettingsMap": {},
     "title": ""
    }
   },
   "outputs": [],
   "source": [
    "from pyspark.sql import SparkSession\n",
    "from pyspark.sql.types import *\n",
    "from pyspark.sql.functions import * "
   ]
  },
  {
   "cell_type": "code",
   "execution_count": 0,
   "metadata": {
    "application/vnd.databricks.v1+cell": {
     "cellMetadata": {
      "byteLimit": 2048000,
      "rowLimit": 10000
     },
     "inputWidgets": {},
     "nuid": "1383405e-fa00-4e53-8035-7d7969db7016",
     "showTitle": false,
     "tableResultSettingsMap": {},
     "title": ""
    }
   },
   "outputs": [],
   "source": [
    "spark = SparkSession.builder.appName(\"ecom_data_pipeline\").getOrCreate()"
   ]
  },
  {
   "cell_type": "markdown",
   "metadata": {
    "application/vnd.databricks.v1+cell": {
     "cellMetadata": {},
     "inputWidgets": {},
     "nuid": "4d501014-71ad-4378-89da-9f0f6ee92ce1",
     "showTitle": false,
     "tableResultSettingsMap": {},
     "title": ""
    }
   },
   "source": [
    "## locations\n",
    "\n",
    "users = /mnt/delta/tables/bronze/users  \n",
    "\n",
    "sellers = /mnt/delta/tables/bronze/sellers \n",
    "\n",
    "buyers = /mnt/delta/tables/bronze/buyers \n",
    "\n",
    "countries = /mnt/delta/tables/bronze/countries"
   ]
  },
  {
   "cell_type": "markdown",
   "metadata": {
    "application/vnd.databricks.v1+cell": {
     "cellMetadata": {},
     "inputWidgets": {},
     "nuid": "43f10273-901f-4625-bd72-cfb1498a3549",
     "showTitle": false,
     "tableResultSettingsMap": {},
     "title": ""
    }
   },
   "source": [
    "### Read **Users** Delta Table"
   ]
  },
  {
   "cell_type": "code",
   "execution_count": 0,
   "metadata": {
    "application/vnd.databricks.v1+cell": {
     "cellMetadata": {
      "byteLimit": 2048000,
      "rowLimit": 10000
     },
     "inputWidgets": {},
     "nuid": "01a30a62-d502-46c0-8622-2482ae7b3255",
     "showTitle": false,
     "tableResultSettingsMap": {},
     "title": ""
    }
   },
   "outputs": [],
   "source": [
    "usersDF = spark.read.format(\"delta\").load(\"/mnt/delta/tables/bronze/users\")"
   ]
  },
  {
   "cell_type": "markdown",
   "metadata": {
    "application/vnd.databricks.v1+cell": {
     "cellMetadata": {},
     "inputWidgets": {},
     "nuid": "65bcb5c2-f265-4552-ac1c-177249a6aa31",
     "showTitle": false,
     "tableResultSettingsMap": {},
     "title": ""
    }
   },
   "source": [
    "## Transformations"
   ]
  },
  {
   "cell_type": "code",
   "execution_count": 0,
   "metadata": {
    "application/vnd.databricks.v1+cell": {
     "cellMetadata": {
      "byteLimit": 2048000,
      "rowLimit": 10000
     },
     "inputWidgets": {},
     "nuid": "d753a965-013a-40a6-b6aa-ea2703ddba29",
     "showTitle": false,
     "tableResultSettingsMap": {},
     "title": ""
    }
   },
   "outputs": [],
   "source": [
    "# Normalize country codes to uppercase\n",
    "usersDF = usersDF.withColumn(\"countrycode\", upper(col(\"countrycode\")))"
   ]
  },
  {
   "cell_type": "code",
   "execution_count": 0,
   "metadata": {
    "application/vnd.databricks.v1+cell": {
     "cellMetadata": {
      "byteLimit": 2048000,
      "rowLimit": 10000
     },
     "inputWidgets": {},
     "nuid": "00f37b05-d100-4fa5-b2d9-499c520caf10",
     "showTitle": false,
     "tableResultSettingsMap": {},
     "title": ""
    }
   },
   "outputs": [],
   "source": [
    "# Handling multiple languages elegantly with `expr` and `case when`\n",
    "usersDF = usersDF.withColumn(\"language_full\", \n",
    "                             expr(\"CASE WHEN language = 'EN' THEN 'English' \" +\n",
    "                                  \"WHEN language = 'FR' THEN 'French' \" +\n",
    "                                  \"ELSE 'Other' END\"))"
   ]
  },
  {
   "cell_type": "code",
   "execution_count": 0,
   "metadata": {
    "application/vnd.databricks.v1+cell": {
     "cellMetadata": {
      "byteLimit": 2048000,
      "rowLimit": 10000
     },
     "inputWidgets": {},
     "nuid": "05fc3ddc-8ea5-4e05-90c9-e9a64b982913",
     "showTitle": false,
     "tableResultSettingsMap": {},
     "title": ""
    }
   },
   "outputs": [],
   "source": [
    "# Correcting potential data entry errors in `gender` column\n",
    "usersDF = usersDF.withColumn(\"gender\", \n",
    "                            when(col(\"gender\").startswith(\"M\"), \"Male\")\n",
    "                            .when(col(\"gender\").startswith(\"F\"), \"Female\")\n",
    "                            .otherwise(\"Other\"))"
   ]
  },
  {
   "cell_type": "code",
   "execution_count": 0,
   "metadata": {
    "application/vnd.databricks.v1+cell": {
     "cellMetadata": {
      "byteLimit": 2048000,
      "rowLimit": 10000
     },
     "inputWidgets": {},
     "nuid": "47f29b30-90ee-44f9-a140-701ba052a233",
     "showTitle": false,
     "tableResultSettingsMap": {},
     "title": ""
    }
   },
   "outputs": [],
   "source": [
    "# Using `regexp_replace` to clean `civilitytitle` values\n",
    "usersDF = usersDF.withColumn(\"civilitytitle_clean\", \n",
    "                             regexp_replace(\"civilitytitle\", \"(Mme|Ms|Mrs)\", \"Ms\"))"
   ]
  },
  {
   "cell_type": "code",
   "execution_count": 0,
   "metadata": {
    "application/vnd.databricks.v1+cell": {
     "cellMetadata": {
      "byteLimit": 2048000,
      "rowLimit": 10000
     },
     "inputWidgets": {},
     "nuid": "1147ec19-6d40-4c55-a7fb-2714a92ccc6f",
     "showTitle": false,
     "tableResultSettingsMap": {},
     "title": ""
    }
   },
   "outputs": [],
   "source": [
    "# Derive new column `years_since_last_login` from `dayssincelastlogin`\n",
    "usersDF = usersDF.withColumn(\"years_since_last_login\", col(\"dayssincelastlogin\") / 365)"
   ]
  },
  {
   "cell_type": "code",
   "execution_count": 0,
   "metadata": {
    "application/vnd.databricks.v1+cell": {
     "cellMetadata": {
      "byteLimit": 2048000,
      "rowLimit": 10000
     },
     "inputWidgets": {},
     "nuid": "43497039-8431-438e-910b-aa32439db93e",
     "showTitle": false,
     "tableResultSettingsMap": {},
     "title": ""
    }
   },
   "outputs": [],
   "source": [
    "# Calculate age of account in years and categorize into `account_age_group`\n",
    "usersDF = usersDF.withColumn(\"account_age_years\", round(col(\"seniority\") / 365, 2))\n",
    "usersDF = usersDF.withColumn(\"account_age_group\",\n",
    "                             when(col(\"account_age_years\") < 1, \"New\")\n",
    "                             .when((col(\"account_age_years\") >= 1) & (col(\"account_age_years\") < 3), \"Intermediate\")\n",
    "                             .otherwise(\"Experienced\"))"
   ]
  },
  {
   "cell_type": "code",
   "execution_count": 0,
   "metadata": {
    "application/vnd.databricks.v1+cell": {
     "cellMetadata": {
      "byteLimit": 2048000,
      "rowLimit": 10000
     },
     "inputWidgets": {},
     "nuid": "e509ebec-9d3c-43ed-9532-23b0dad541f9",
     "showTitle": false,
     "tableResultSettingsMap": {},
     "title": ""
    }
   },
   "outputs": [],
   "source": [
    "# Add a column with the current year for comparison\n",
    "usersDF = usersDF.withColumn(\"current_year\", year(current_date()))"
   ]
  },
  {
   "cell_type": "code",
   "execution_count": 0,
   "metadata": {
    "application/vnd.databricks.v1+cell": {
     "cellMetadata": {
      "byteLimit": 2048000,
      "rowLimit": 10000
     },
     "inputWidgets": {},
     "nuid": "6542d8fc-e2d0-492e-8109-c289b62dc98a",
     "showTitle": false,
     "tableResultSettingsMap": {},
     "title": ""
    }
   },
   "outputs": [],
   "source": [
    "# Creatively combining strings to form a unique user descriptor\n",
    "usersDF = usersDF.withColumn(\"user_descriptor\", \n",
    "                             concat(col(\"gender\"), lit(\"_\"), \n",
    "                                    col(\"countrycode\"), lit(\"_\"), \n",
    "                                    expr(\"substring(civilitytitle_clean, 1, 3)\"), lit(\"_\"), \n",
    "                                    col(\"language_full\")))"
   ]
  },
  {
   "cell_type": "code",
   "execution_count": 0,
   "metadata": {
    "application/vnd.databricks.v1+cell": {
     "cellMetadata": {
      "byteLimit": 2048000,
      "rowLimit": 10000
     },
     "inputWidgets": {},
     "nuid": "d9f418db-5ba5-4b15-8749-d15181430ca3",
     "showTitle": false,
     "tableResultSettingsMap": {},
     "title": ""
    }
   },
   "outputs": [],
   "source": [
    "usersDF = usersDF.withColumn(\"flag_long_title\", length(col(\"civilitytitle\")) > 10)"
   ]
  },
  {
   "cell_type": "code",
   "execution_count": 0,
   "metadata": {
    "application/vnd.databricks.v1+cell": {
     "cellMetadata": {
      "byteLimit": 2048000,
      "rowLimit": 10000
     },
     "inputWidgets": {},
     "nuid": "4309ce49-9e7a-410c-80a9-0f02fc96ccae",
     "showTitle": false,
     "tableResultSettingsMap": {},
     "title": ""
    }
   },
   "outputs": [],
   "source": [
    "#casting datatypes based on original dataset schema\n",
    "\n",
    "usersDF = usersDF.withColumn(\"hasanyapp\", col(\"hasanyapp\").cast(\"boolean\"))\n",
    "usersDF = usersDF.withColumn(\"hasandroidapp\", col(\"hasandroidapp\").cast(\"boolean\"))\n",
    "usersDF = usersDF.withColumn(\"hasiosapp\", col(\"hasiosapp\").cast(\"boolean\"))\n",
    "usersDF = usersDF.withColumn(\"hasprofilepicture\", col(\"hasprofilepicture\").cast(\"boolean\"))\n",
    "\n",
    "\n",
    "usersDF = usersDF.withColumn(\"socialnbfollowers\", col(\"socialnbfollowers\").cast(IntegerType()))\n",
    "usersDF = usersDF.withColumn(\"socialnbfollows\", col(\"socialnbfollows\").cast(IntegerType()))\n",
    "\n",
    "usersDF = usersDF.withColumn(\"productspassrate\", col(\"productspassrate\").cast(DecimalType(10, 2)))\n",
    "usersDF = usersDF.withColumn(\"seniorityasmonths\", col(\"seniorityasmonths\").cast(DecimalType(10, 2)))\n",
    "usersDF = usersDF.withColumn(\"seniorityasyears\", col(\"seniorityasyears\").cast(DecimalType(10, 2)))\n"
   ]
  },
  {
   "cell_type": "code",
   "execution_count": 0,
   "metadata": {
    "application/vnd.databricks.v1+cell": {
     "cellMetadata": {
      "byteLimit": 2048000,
      "rowLimit": 10000
     },
     "inputWidgets": {},
     "nuid": "a8f1cd8f-c31a-442a-b7d0-5a611e617651",
     "showTitle": false,
     "tableResultSettingsMap": {},
     "title": ""
    }
   },
   "outputs": [],
   "source": [
    "usersDF = usersDF.withColumn(\"dayssincelastlogin\",\n",
    "                             when(col(\"dayssincelastlogin\").isNotNull(),\n",
    "                                  col(\"dayssincelastlogin\").cast(IntegerType()))\n",
    "                             .otherwise(0))"
   ]
  },
  {
   "cell_type": "markdown",
   "metadata": {
    "application/vnd.databricks.v1+cell": {
     "cellMetadata": {},
     "inputWidgets": {},
     "nuid": "3ccce795-700c-471b-be5e-d4e3f3894d9c",
     "showTitle": false,
     "tableResultSettingsMap": {},
     "title": ""
    }
   },
   "source": [
    "### Save the delta table after transformations"
   ]
  },
  {
   "cell_type": "code",
   "execution_count": 0,
   "metadata": {
    "application/vnd.databricks.v1+cell": {
     "cellMetadata": {
      "byteLimit": 2048000,
      "rowLimit": 10000
     },
     "inputWidgets": {},
     "nuid": "ea37bf43-e4ef-437a-8171-6198c8a6eebd",
     "showTitle": false,
     "tableResultSettingsMap": {},
     "title": ""
    }
   },
   "outputs": [],
   "source": [
    "usersDF.write.format(\"delta\").mode(\"overwrite\").save(\"/mnt/delta/tables/silver/users\")"
   ]
  },
  {
   "cell_type": "markdown",
   "metadata": {
    "application/vnd.databricks.v1+cell": {
     "cellMetadata": {},
     "inputWidgets": {},
     "nuid": "6da9265c-6e82-423b-a550-4ab30d047e0c",
     "showTitle": false,
     "tableResultSettingsMap": {},
     "title": ""
    }
   },
   "source": [
    "### Read, Transform and load buyers data"
   ]
  },
  {
   "cell_type": "code",
   "execution_count": 0,
   "metadata": {
    "application/vnd.databricks.v1+cell": {
     "cellMetadata": {
      "byteLimit": 2048000,
      "rowLimit": 10000
     },
     "inputWidgets": {},
     "nuid": "a273a903-c454-4cda-aa5f-a5b609d605a0",
     "showTitle": false,
     "tableResultSettingsMap": {},
     "title": ""
    }
   },
   "outputs": [],
   "source": [
    "buyersDF = spark.read.format(\"delta\").load(\"/mnt/delta/tables/bronze/buyers\")"
   ]
  },
  {
   "cell_type": "code",
   "execution_count": 0,
   "metadata": {
    "application/vnd.databricks.v1+cell": {
     "cellMetadata": {
      "byteLimit": 2048000,
      "rowLimit": 10000
     },
     "inputWidgets": {},
     "nuid": "28223022-0e58-46e1-83ae-1941998fe20d",
     "showTitle": false,
     "tableResultSettingsMap": {},
     "title": ""
    }
   },
   "outputs": [],
   "source": [
    "# Casting Integer columns\n",
    "integer_columns = [\n",
    "    'buyers', 'topbuyers', 'femalebuyers', 'malebuyers',\n",
    "    'topfemalebuyers', 'topmalebuyers', 'totalproductsbought',\n",
    "    'totalproductswished', 'totalproductsliked', 'toptotalproductsbought',\n",
    "    'toptotalproductswished', 'toptotalproductsliked'\n",
    "]\n",
    "\n",
    "for column_name in integer_columns:\n",
    "    buyersDF = buyersDF.withColumn(column_name, col(column_name).cast(IntegerType()))"
   ]
  },
  {
   "cell_type": "code",
   "execution_count": 0,
   "metadata": {
    "application/vnd.databricks.v1+cell": {
     "cellMetadata": {
      "byteLimit": 2048000,
      "rowLimit": 10000
     },
     "inputWidgets": {},
     "nuid": "31e48f78-743f-4364-b9ca-8cf9739270cd",
     "showTitle": false,
     "tableResultSettingsMap": {},
     "title": ""
    }
   },
   "outputs": [],
   "source": [
    "# Casting Decimal columns\n",
    "decimal_columns = [\n",
    "    'topbuyerratio', 'femalebuyersratio', 'topfemalebuyersratio',\n",
    "    'boughtperwishlistratio', 'boughtperlikeratio', 'topboughtperwishlistratio',\n",
    "    'topboughtperlikeratio', 'meanproductsbought', 'meanproductswished',\n",
    "    'meanproductsliked', 'topmeanproductsbought', 'topmeanproductswished',\n",
    "    'topmeanproductsliked', 'meanofflinedays', 'topmeanofflinedays',\n",
    "    'meanfollowers', 'meanfollowing', 'topmeanfollowers', 'topmeanfollowing'\n",
    "]\n",
    "\n",
    "for column_name in decimal_columns:\n",
    "    buyersDF = buyersDF.withColumn(column_name, col(column_name).cast(DecimalType(10, 2)))"
   ]
  },
  {
   "cell_type": "code",
   "execution_count": 0,
   "metadata": {
    "application/vnd.databricks.v1+cell": {
     "cellMetadata": {
      "byteLimit": 2048000,
      "rowLimit": 10000
     },
     "inputWidgets": {},
     "nuid": "11fe7498-c9bb-4f6f-b38e-80aa8ab8338e",
     "showTitle": false,
     "tableResultSettingsMap": {},
     "title": ""
    }
   },
   "outputs": [],
   "source": [
    "# Normalize country names\n",
    "buyersDF = buyersDF.withColumn(\"country\", initcap(col(\"country\")))\n",
    "\n",
    "for col_name in integer_columns:\n",
    "    buyersDF = buyersDF.fillna({col_name: 0})\n",
    "\n",
    "# Calculate the ratio of female to male buyers\n",
    "buyersDF = buyersDF.withColumn(\"female_to_male_ratio\", \n",
    "                               round(col(\"femalebuyers\") / (col(\"malebuyers\") + 1), 2))\n",
    "\n",
    "# Determine the market potential by comparing wishlist and purchases\n",
    "buyersDF = buyersDF.withColumn(\"wishlist_to_purchase_ratio\", \n",
    "                               round(col(\"totalproductswished\") / (col(\"totalproductsbought\") + 1), 2))\n",
    "\n",
    "# Tag countries with a high engagement ratio\n",
    "high_engagement_threshold = 0.5\n",
    "buyersDF = buyersDF.withColumn(\"high_engagement\",\n",
    "                               when(col(\"boughtperwishlistratio\") > high_engagement_threshold, True)\n",
    "                               .otherwise(False))\n",
    "                               \n",
    "    # Flag markets with increasing female buyer participation\n",
    "buyersDF = buyersDF.withColumn(\"growing_female_market\",\n",
    "                               when(col(\"femalebuyersratio\") > col(\"topfemalebuyersratio\"), True)\n",
    "                               .otherwise(False))"
   ]
  },
  {
   "cell_type": "code",
   "execution_count": 0,
   "metadata": {
    "application/vnd.databricks.v1+cell": {
     "cellMetadata": {
      "byteLimit": 2048000,
      "rowLimit": 10000
     },
     "inputWidgets": {},
     "nuid": "661eb3e6-c1a4-4eb9-b899-ce7eeebf0c10",
     "showTitle": false,
     "tableResultSettingsMap": {},
     "title": ""
    }
   },
   "outputs": [],
   "source": [
    "buyersDF.write.format(\"delta\").mode(\"overwrite\").save(\"/mnt/delta/tables/silver/buyers\")"
   ]
  },
  {
   "cell_type": "markdown",
   "metadata": {
    "application/vnd.databricks.v1+cell": {
     "cellMetadata": {},
     "inputWidgets": {},
     "nuid": "85e310b5-8f37-472f-89f2-c5682ecdd428",
     "showTitle": false,
     "tableResultSettingsMap": {},
     "title": ""
    }
   },
   "source": [
    "### Read, Transform and load sellers data"
   ]
  },
  {
   "cell_type": "code",
   "execution_count": 0,
   "metadata": {
    "application/vnd.databricks.v1+cell": {
     "cellMetadata": {
      "byteLimit": 2048000,
      "rowLimit": 10000
     },
     "inputWidgets": {},
     "nuid": "a489fc14-10f7-44c4-b20f-2a7e7cd99ccd",
     "showTitle": false,
     "tableResultSettingsMap": {},
     "title": ""
    }
   },
   "outputs": [],
   "source": [
    "sellersDF = spark.read.format(\"delta\").load(\"/mnt/delta/tables/bronze/sellers\")"
   ]
  },
  {
   "cell_type": "code",
   "execution_count": 0,
   "metadata": {
    "application/vnd.databricks.v1+cell": {
     "cellMetadata": {
      "byteLimit": 2048000,
      "rowLimit": 10000
     },
     "inputWidgets": {},
     "nuid": "4fb506ea-ab42-4c3e-bda4-cdc9575fcc5e",
     "showTitle": false,
     "tableResultSettingsMap": {},
     "title": ""
    }
   },
   "outputs": [],
   "source": [
    "sellersDF = sellersDF \\\n",
    "    .withColumn(\"nbsellers\", col(\"nbsellers\").cast(IntegerType())) \\\n",
    "    .withColumn(\"meanproductssold\", col(\"meanproductssold\").cast(DecimalType(10, 2))) \\\n",
    "    .withColumn(\"meanproductslisted\", col(\"meanproductslisted\").cast(DecimalType(10, 2))) \\\n",
    "    .withColumn(\"meansellerpassrate\", col(\"meansellerpassrate\").cast(DecimalType(10, 2))) \\\n",
    "    .withColumn(\"totalproductssold\", col(\"totalproductssold\").cast(IntegerType())) \\\n",
    "    .withColumn(\"totalproductslisted\", col(\"totalproductslisted\").cast(IntegerType())) \\\n",
    "    .withColumn(\"meanproductsbought\", col(\"meanproductsbought\").cast(DecimalType(10, 2))) \\\n",
    "    .withColumn(\"meanproductswished\", col(\"meanproductswished\").cast(DecimalType(10, 2))) \\\n",
    "    .withColumn(\"meanproductsliked\", col(\"meanproductsliked\").cast(DecimalType(10, 2))) \\\n",
    "    .withColumn(\"totalbought\", col(\"totalbought\").cast(IntegerType())) \\\n",
    "    .withColumn(\"totalwished\", col(\"totalwished\").cast(IntegerType())) \\\n",
    "    .withColumn(\"totalproductsliked\", col(\"totalproductsliked\").cast(IntegerType())) \\\n",
    "    .withColumn(\"meanfollowers\", col(\"meanfollowers\").cast(DecimalType(10, 2))) \\\n",
    "    .withColumn(\"meanfollows\", col(\"meanfollows\").cast(DecimalType(10, 2))) \\\n",
    "    .withColumn(\"percentofappusers\", col(\"percentofappusers\").cast(DecimalType(10, 2))) \\\n",
    "    .withColumn(\"percentofiosusers\", col(\"percentofiosusers\").cast(DecimalType(10, 2))) \\\n",
    "    .withColumn(\"meanseniority\", col(\"meanseniority\").cast(DecimalType(10, 2)))"
   ]
  },
  {
   "cell_type": "code",
   "execution_count": 0,
   "metadata": {
    "application/vnd.databricks.v1+cell": {
     "cellMetadata": {
      "byteLimit": 2048000,
      "rowLimit": 10000
     },
     "inputWidgets": {},
     "nuid": "885dfa5d-3eb7-4aa6-9e89-0901ac465869",
     "showTitle": false,
     "tableResultSettingsMap": {},
     "title": ""
    }
   },
   "outputs": [],
   "source": [
    "# Normalize country names and gender values\n",
    "sellersDF = sellersDF.withColumn(\"country\", initcap(col(\"country\"))) \\\n",
    "                                                .withColumn(\"sex\", upper(col(\"sex\")))\n",
    "\n",
    "\n",
    "#Add a column to categorize the number of sellers\n",
    "sellersDF = sellersDF.withColumn(\"seller_size_category\", \n",
    "                               when(col(\"nbsellers\") < 500, \"Small\") \\\n",
    "                               .when((col(\"nbsellers\") >= 500) & (col(\"nbsellers\") < 2000), \"Medium\") \\\n",
    "                               .otherwise(\"Large\"))\n",
    "\n",
    "# Calculate the mean products listed per seller as an indicator of seller activity\n",
    "sellersDF = sellersDF.withColumn(\"mean_products_listed_per_seller\", \n",
    "                               round(col(\"totalproductslisted\") / col(\"nbsellers\"), 2))\n",
    "\n",
    "# Identify markets with high seller pass rate\n",
    "sellersDF = sellersDF.withColumn(\"high_seller_pass_rate\", \n",
    "                               when(col(\"meansellerpassrate\") > 0.75, \"High\") \\\n",
    "                               .otherwise(\"Normal\"))\n",
    "\n",
    "mean_pass_rate = sellersDF.select(round(avg(\"meansellerpassrate\"), 2).alias(\"avg_pass_rate\")).collect()[0][\"avg_pass_rate\"]\n",
    "\n",
    "sellersDF = sellersDF.withColumn(\"meansellerpassrate\",\n",
    "                                 when(col(\"meansellerpassrate\").isNull(), mean_pass_rate)\n",
    "                                 .otherwise(col(\"meansellerpassrate\")))"
   ]
  },
  {
   "cell_type": "code",
   "execution_count": 0,
   "metadata": {
    "application/vnd.databricks.v1+cell": {
     "cellMetadata": {
      "byteLimit": 2048000,
      "rowLimit": 10000
     },
     "inputWidgets": {},
     "nuid": "4845626f-8e3e-4632-a964-19fcadfd5a38",
     "showTitle": false,
     "tableResultSettingsMap": {},
     "title": ""
    }
   },
   "outputs": [],
   "source": [
    "sellersDF.write.format(\"delta\").mode(\"overwrite\").save(\"/mnt/delta/tables/silver/sellers\")"
   ]
  },
  {
   "cell_type": "markdown",
   "metadata": {
    "application/vnd.databricks.v1+cell": {
     "cellMetadata": {},
     "inputWidgets": {},
     "nuid": "5ef47ae9-e955-496c-8cb5-722ca0d7822c",
     "showTitle": false,
     "tableResultSettingsMap": {},
     "title": ""
    }
   },
   "source": [
    "### Read, Transforma and load countries data"
   ]
  },
  {
   "cell_type": "code",
   "execution_count": 0,
   "metadata": {
    "application/vnd.databricks.v1+cell": {
     "cellMetadata": {
      "byteLimit": 2048000,
      "rowLimit": 10000
     },
     "inputWidgets": {},
     "nuid": "82294814-f931-4107-8023-b8f874fc49ac",
     "showTitle": false,
     "tableResultSettingsMap": {},
     "title": ""
    }
   },
   "outputs": [],
   "source": [
    "countriesDF = spark.read.format(\"delta\").load(\"/mnt/delta/tables/bronze/countries\")"
   ]
  },
  {
   "cell_type": "code",
   "execution_count": 0,
   "metadata": {
    "application/vnd.databricks.v1+cell": {
     "cellMetadata": {
      "byteLimit": 2048000,
      "rowLimit": 10000
     },
     "inputWidgets": {},
     "nuid": "109f63aa-7222-432e-8f98-7cf6c6098491",
     "showTitle": false,
     "tableResultSettingsMap": {},
     "title": ""
    }
   },
   "outputs": [],
   "source": [
    "countriesDF = countriesDF \\\n",
    "    .withColumn(\"sellers\", col(\"sellers\").cast(IntegerType())) \\\n",
    "    .withColumn(\"topsellers\", col(\"topsellers\").cast(IntegerType())) \\\n",
    "    .withColumn(\"topsellerratio\", col(\"topsellerratio\").cast(DecimalType(10, 2))) \\\n",
    "    .withColumn(\"femalesellersratio\", col(\"femalesellersratio\").cast(DecimalType(10, 2))) \\\n",
    "    .withColumn(\"topfemalesellersratio\", col(\"topfemalesellersratio\").cast(DecimalType(10, 2))) \\\n",
    "    .withColumn(\"femalesellers\", col(\"femalesellers\").cast(IntegerType())) \\\n",
    "    .withColumn(\"malesellers\", col(\"malesellers\").cast(IntegerType())) \\\n",
    "    .withColumn(\"topfemalesellers\", col(\"topfemalesellers\").cast(IntegerType())) \\\n",
    "    .withColumn(\"topmalesellers\", col(\"topmalesellers\").cast(IntegerType())) \\\n",
    "    .withColumn(\"countrysoldratio\", col(\"countrysoldratio\").cast(DecimalType(10, 2))) \\\n",
    "    .withColumn(\"bestsoldratio\", col(\"bestsoldratio\").cast(DecimalType(10, 2))) \\\n",
    "    .withColumn(\"toptotalproductssold\", col(\"toptotalproductssold\").cast(IntegerType())) \\\n",
    "    .withColumn(\"totalproductssold\", col(\"totalproductssold\").cast(IntegerType())) \\\n",
    "    .withColumn(\"toptotalproductslisted\", col(\"toptotalproductslisted\").cast(IntegerType())) \\\n",
    "    .withColumn(\"totalproductslisted\", col(\"totalproductslisted\").cast(IntegerType())) \\\n",
    "    .withColumn(\"topmeanproductssold\", col(\"topmeanproductssold\").cast(DecimalType(10, 2))) \\\n",
    "    .withColumn(\"topmeanproductslisted\", col(\"topmeanproductslisted\").cast(DecimalType(10, 2))) \\\n",
    "    .withColumn(\"meanproductssold\", col(\"meanproductssold\").cast(DecimalType(10, 2))) \\\n",
    "    .withColumn(\"meanproductslisted\", col(\"meanproductslisted\").cast(DecimalType(10, 2))) \\\n",
    "    .withColumn(\"meanofflinedays\", col(\"meanofflinedays\").cast(DecimalType(10, 2))) \\\n",
    "    .withColumn(\"topmeanofflinedays\", col(\"topmeanofflinedays\").cast(DecimalType(10, 2))) \\\n",
    "    .withColumn(\"meanfollowers\", col(\"meanfollowers\").cast(DecimalType(10, 2))) \\\n",
    "    .withColumn(\"meanfollowing\", col(\"meanfollowing\").cast(DecimalType(10, 2))) \\\n",
    "    .withColumn(\"topmeanfollowers\", col(\"topmeanfollowers\").cast(DecimalType(10, 2))) \\\n",
    "    .withColumn(\"topmeanfollowing\", col(\"topmeanfollowing\").cast(DecimalType(10, 2)))\n"
   ]
  },
  {
   "cell_type": "code",
   "execution_count": 0,
   "metadata": {
    "application/vnd.databricks.v1+cell": {
     "cellMetadata": {
      "byteLimit": 2048000,
      "rowLimit": 10000
     },
     "inputWidgets": {},
     "nuid": "32da5923-df2e-4363-95cf-a9d9934c4668",
     "showTitle": false,
     "tableResultSettingsMap": {},
     "title": ""
    }
   },
   "outputs": [],
   "source": [
    "countriesDF = countriesDF.withColumn(\"country\", initcap(col(\"country\")))\n",
    "\n",
    "\n",
    "# Calculating the ratio of top sellers to total sellers\n",
    "countriesDF = countriesDF.withColumn(\"top_seller_ratio\", \n",
    "                                        round(col(\"topsellers\") / col(\"sellers\"), 2))\n",
    "\n",
    "# countriesDF countries with a high ratio of female sellers\n",
    "countriesDF = countriesDF.withColumn(\"high_female_seller_ratio\", \n",
    "                                        when(col(\"femalesellersratio\") > 0.5, True).otherwise(False))\n",
    "\n",
    "# Adding a performance indicator based on the sold/listed ratio\n",
    "countriesDF = countriesDF.withColumn(\"performance_indicator\", \n",
    "                                        round(col(\"toptotalproductssold\") / (col(\"toptotalproductslisted\") + 1), 2))\n",
    "\n",
    "# Flag countries with exceptionally high performance\n",
    "performance_threshold = 0.8\n",
    "countriesDF = countriesDF.withColumn(\"high_performance\", \n",
    "                                        when(col(\"performance_indicator\") > performance_threshold, True).otherwise(False))\n",
    "\n",
    "countriesDF = countriesDF.withColumn(\"activity_level\",\n",
    "                                       when(col(\"meanofflinedays\") < 30, \"Highly Active\")\n",
    "                                       .when((col(\"meanofflinedays\") >= 30) & (col(\"meanofflinedays\") < 60), \"Moderately Active\")\n",
    "                                       .otherwise(\"Low Activity\"))"
   ]
  },
  {
   "cell_type": "code",
   "execution_count": 0,
   "metadata": {
    "application/vnd.databricks.v1+cell": {
     "cellMetadata": {
      "byteLimit": 2048000,
      "rowLimit": 10000
     },
     "inputWidgets": {},
     "nuid": "bf9ec8fe-bd36-49a7-8e2d-68e86c958f44",
     "showTitle": false,
     "tableResultSettingsMap": {},
     "title": ""
    }
   },
   "outputs": [],
   "source": [
    "countriesDF.write.format(\"delta\").mode(\"overwrite\").save(\"/mnt/delta/tables/silver/countries\")"
   ]
  },
  {
   "cell_type": "code",
   "execution_count": 0,
   "metadata": {
    "application/vnd.databricks.v1+cell": {
     "cellMetadata": {
      "byteLimit": 2048000,
      "rowLimit": 10000
     },
     "inputWidgets": {},
     "nuid": "bb873015-a0ec-4d64-b420-29d044cb6fb1",
     "showTitle": false,
     "tableResultSettingsMap": {},
     "title": ""
    }
   },
   "outputs": [
    {
     "output_type": "display_data",
     "data": {
      "text/html": [
       "<style scoped>\n",
       "  .table-result-container {\n",
       "    max-height: 300px;\n",
       "    overflow: auto;\n",
       "  }\n",
       "  table, th, td {\n",
       "    border: 1px solid black;\n",
       "    border-collapse: collapse;\n",
       "  }\n",
       "  th, td {\n",
       "    padding: 5px;\n",
       "  }\n",
       "  th {\n",
       "    text-align: left;\n",
       "  }\n",
       "</style><div class='table-result-container'><table class='table-result'><thead style='background-color: white'><tr><th>path</th><th>name</th><th>size</th><th>modificationTime</th></tr></thead><tbody><tr><td>dbfs:/mnt/delta/tables/silver/buyers/</td><td>buyers/</td><td>0</td><td>1731577557000</td></tr><tr><td>dbfs:/mnt/delta/tables/silver/countries/</td><td>countries/</td><td>0</td><td>1731577849000</td></tr><tr><td>dbfs:/mnt/delta/tables/silver/sellers/</td><td>sellers/</td><td>0</td><td>1731577718000</td></tr><tr><td>dbfs:/mnt/delta/tables/silver/users/</td><td>users/</td><td>0</td><td>1731577336000</td></tr></tbody></table></div>"
      ]
     },
     "metadata": {
      "application/vnd.databricks.v1+output": {
       "addedWidgets": {},
       "aggData": [],
       "aggError": "",
       "aggOverflow": false,
       "aggSchema": [],
       "aggSeriesLimitReached": false,
       "aggType": "",
       "arguments": {},
       "columnCustomDisplayInfos": {},
       "data": [
        [
         "dbfs:/mnt/delta/tables/silver/buyers/",
         "buyers/",
         0,
         1731577557000
        ],
        [
         "dbfs:/mnt/delta/tables/silver/countries/",
         "countries/",
         0,
         1731577849000
        ],
        [
         "dbfs:/mnt/delta/tables/silver/sellers/",
         "sellers/",
         0,
         1731577718000
        ],
        [
         "dbfs:/mnt/delta/tables/silver/users/",
         "users/",
         0,
         1731577336000
        ]
       ],
       "datasetInfos": [],
       "dbfsResultPath": null,
       "isJsonSchema": true,
       "metadata": {
        "isDbfsCommandResult": false
       },
       "overflow": false,
       "plotOptions": {
        "customPlotOptions": {},
        "displayType": "table",
        "pivotAggregation": null,
        "pivotColumns": null,
        "xColumns": null,
        "yColumns": null
       },
       "removedWidgets": [],
       "schema": [
        {
         "metadata": "{}",
         "name": "path",
         "type": "\"string\""
        },
        {
         "metadata": "{}",
         "name": "name",
         "type": "\"string\""
        },
        {
         "metadata": "{}",
         "name": "size",
         "type": "\"long\""
        },
        {
         "metadata": "{}",
         "name": "modificationTime",
         "type": "\"long\""
        }
       ],
       "type": "table"
      }
     },
     "output_type": "display_data"
    }
   ],
   "source": [
    "%fs ls \"/mnt/delta/tables/silver/\""
   ]
  },
  {
   "cell_type": "code",
   "execution_count": 0,
   "metadata": {
    "application/vnd.databricks.v1+cell": {
     "cellMetadata": {
      "byteLimit": 2048000,
      "rowLimit": 10000
     },
     "inputWidgets": {},
     "nuid": "9812ee91-9046-4f6b-8c20-94c13037c506",
     "showTitle": false,
     "tableResultSettingsMap": {},
     "title": ""
    }
   },
   "outputs": [
    {
     "output_type": "display_data",
     "data": {
      "text/html": [
       "<style scoped>\n",
       "  .table-result-container {\n",
       "    max-height: 300px;\n",
       "    overflow: auto;\n",
       "  }\n",
       "  table, th, td {\n",
       "    border: 1px solid black;\n",
       "    border-collapse: collapse;\n",
       "  }\n",
       "  th, td {\n",
       "    padding: 5px;\n",
       "  }\n",
       "  th {\n",
       "    text-align: left;\n",
       "  }\n",
       "</style><div class='table-result-container'><table class='table-result'><thead style='background-color: white'><tr><th>path</th><th>name</th><th>size</th><th>modificationTime</th></tr></thead><tbody><tr><td>dbfs:/mnt/delta/tables/silver/users/_delta_log/</td><td>_delta_log/</td><td>0</td><td>1731577336000</td></tr><tr><td>dbfs:/mnt/delta/tables/silver/users/part-00000-02850aa0-27e4-4151-922f-2cbfcc13e3cb.c000.snappy.parquet</td><td>part-00000-02850aa0-27e4-4151-922f-2cbfcc13e3cb.c000.snappy.parquet</td><td>1517594</td><td>1731660732000</td></tr><tr><td>dbfs:/mnt/delta/tables/silver/users/part-00000-19649c7f-eba0-43a5-9181-ddc5cd9d9adf.c000.snappy.parquet</td><td>part-00000-19649c7f-eba0-43a5-9181-ddc5cd9d9adf.c000.snappy.parquet</td><td>2648079</td><td>1731661097000</td></tr><tr><td>dbfs:/mnt/delta/tables/silver/users/part-00000-20659ec9-d55a-48ab-8884-b776c9995954.c000.snappy.parquet</td><td>part-00000-20659ec9-d55a-48ab-8884-b776c9995954.c000.snappy.parquet</td><td>2648079</td><td>1731661082000</td></tr><tr><td>dbfs:/mnt/delta/tables/silver/users/part-00000-31e5504f-465b-41fd-bbd8-e5dc42a03783.c000.snappy.parquet</td><td>part-00000-31e5504f-465b-41fd-bbd8-e5dc42a03783.c000.snappy.parquet</td><td>1517597</td><td>1731660755000</td></tr><tr><td>dbfs:/mnt/delta/tables/silver/users/part-00000-41b89153-d6d9-4c47-b8e5-bd297dfcc9aa.c000.snappy.parquet</td><td>part-00000-41b89153-d6d9-4c47-b8e5-bd297dfcc9aa.c000.snappy.parquet</td><td>1517595</td><td>1731660756000</td></tr><tr><td>dbfs:/mnt/delta/tables/silver/users/part-00000-7040b622-474b-4cb0-9f07-2b339980549f.c000.snappy.parquet</td><td>part-00000-7040b622-474b-4cb0-9f07-2b339980549f.c000.snappy.parquet</td><td>1517596</td><td>1731660752000</td></tr><tr><td>dbfs:/mnt/delta/tables/silver/users/part-00000-73ca5981-91a0-495e-813d-227231066fa8.c000.snappy.parquet</td><td>part-00000-73ca5981-91a0-495e-813d-227231066fa8.c000.snappy.parquet</td><td>2648079</td><td>1731661087000</td></tr><tr><td>dbfs:/mnt/delta/tables/silver/users/part-00000-9439ba4f-080c-428b-b742-7ba418dc55b8.c000.snappy.parquet</td><td>part-00000-9439ba4f-080c-428b-b742-7ba418dc55b8.c000.snappy.parquet</td><td>1019286</td><td>1731668855000</td></tr><tr><td>dbfs:/mnt/delta/tables/silver/users/part-00000-9c420487-288d-4685-bc07-2c53e70359c8.c000.snappy.parquet</td><td>part-00000-9c420487-288d-4685-bc07-2c53e70359c8.c000.snappy.parquet</td><td>2648079</td><td>1731661102000</td></tr><tr><td>dbfs:/mnt/delta/tables/silver/users/part-00000-9f8a0c6e-c742-4fdb-8dc5-25719e7a2444.c000.snappy.parquet</td><td>part-00000-9f8a0c6e-c742-4fdb-8dc5-25719e7a2444.c000.snappy.parquet</td><td>2648079</td><td>1731661097000</td></tr><tr><td>dbfs:/mnt/delta/tables/silver/users/part-00000-a54d3dab-1a2d-480e-9060-71cc6a22c8e3.c000.snappy.parquet</td><td>part-00000-a54d3dab-1a2d-480e-9060-71cc6a22c8e3.c000.snappy.parquet</td><td>2648079</td><td>1731661110000</td></tr><tr><td>dbfs:/mnt/delta/tables/silver/users/part-00000-c836ed9c-d075-45d0-90cc-96e3a7fa803b.c000.snappy.parquet</td><td>part-00000-c836ed9c-d075-45d0-90cc-96e3a7fa803b.c000.snappy.parquet</td><td>1019317</td><td>1731660223000</td></tr><tr><td>dbfs:/mnt/delta/tables/silver/users/part-00000-e0626ba6-f625-4d43-9c72-fe5cb398d6d9.c000.snappy.parquet</td><td>part-00000-e0626ba6-f625-4d43-9c72-fe5cb398d6d9.c000.snappy.parquet</td><td>518785</td><td>1731577338000</td></tr><tr><td>dbfs:/mnt/delta/tables/silver/users/part-00001-160cb4e9-5442-4a13-ada6-cb974de3aaa0.c000.snappy.parquet</td><td>part-00001-160cb4e9-5442-4a13-ada6-cb974de3aaa0.c000.snappy.parquet</td><td>1092461</td><td>1731660752000</td></tr><tr><td>dbfs:/mnt/delta/tables/silver/users/part-00001-19b439ef-40b8-4a47-833f-d4386666c32f.c000.snappy.parquet</td><td>part-00001-19b439ef-40b8-4a47-833f-d4386666c32f.c000.snappy.parquet</td><td>1021305</td><td>1731668855000</td></tr><tr><td>dbfs:/mnt/delta/tables/silver/users/part-00001-360f1f5b-db3c-4402-88a7-5700014d85cb.c000.snappy.parquet</td><td>part-00001-360f1f5b-db3c-4402-88a7-5700014d85cb.c000.snappy.parquet</td><td>1092459</td><td>1731660732000</td></tr><tr><td>dbfs:/mnt/delta/tables/silver/users/part-00001-622c6c97-8409-48d2-837a-f0c238cda66e.c000.snappy.parquet</td><td>part-00001-622c6c97-8409-48d2-837a-f0c238cda66e.c000.snappy.parquet</td><td>1092460</td><td>1731660756000</td></tr><tr><td>dbfs:/mnt/delta/tables/silver/users/part-00001-af33fab3-95d9-4d99-8bbe-05a7a48f7c80.c000.snappy.parquet</td><td>part-00001-af33fab3-95d9-4d99-8bbe-05a7a48f7c80.c000.snappy.parquet</td><td>1092462</td><td>1731660755000</td></tr><tr><td>dbfs:/mnt/delta/tables/silver/users/part-00001-e5f71582-fef8-4330-b4d1-12c5b4cb9d00.c000.snappy.parquet</td><td>part-00001-e5f71582-fef8-4330-b4d1-12c5b4cb9d00.c000.snappy.parquet</td><td>1021336</td><td>1731660223000</td></tr><tr><td>dbfs:/mnt/delta/tables/silver/users/part-00002-488e5ffd-f153-4485-bff9-2e3a69b9bf8a.c000.snappy.parquet</td><td>part-00002-488e5ffd-f153-4485-bff9-2e3a69b9bf8a.c000.snappy.parquet</td><td>520457</td><td>1731660223000</td></tr><tr><td>dbfs:/mnt/delta/tables/silver/users/part-00002-5a65ab43-92a3-48e8-b1c2-dba0e9faaefa.c000.snappy.parquet</td><td>part-00002-5a65ab43-92a3-48e8-b1c2-dba0e9faaefa.c000.snappy.parquet</td><td>657879</td><td>1731668855000</td></tr></tbody></table></div>"
      ]
     },
     "metadata": {
      "application/vnd.databricks.v1+output": {
       "addedWidgets": {},
       "aggData": [],
       "aggError": "",
       "aggOverflow": false,
       "aggSchema": [],
       "aggSeriesLimitReached": false,
       "aggType": "",
       "arguments": {},
       "columnCustomDisplayInfos": {},
       "data": [
        [
         "dbfs:/mnt/delta/tables/silver/users/_delta_log/",
         "_delta_log/",
         0,
         1731577336000
        ],
        [
         "dbfs:/mnt/delta/tables/silver/users/part-00000-02850aa0-27e4-4151-922f-2cbfcc13e3cb.c000.snappy.parquet",
         "part-00000-02850aa0-27e4-4151-922f-2cbfcc13e3cb.c000.snappy.parquet",
         1517594,
         1731660732000
        ],
        [
         "dbfs:/mnt/delta/tables/silver/users/part-00000-19649c7f-eba0-43a5-9181-ddc5cd9d9adf.c000.snappy.parquet",
         "part-00000-19649c7f-eba0-43a5-9181-ddc5cd9d9adf.c000.snappy.parquet",
         2648079,
         1731661097000
        ],
        [
         "dbfs:/mnt/delta/tables/silver/users/part-00000-20659ec9-d55a-48ab-8884-b776c9995954.c000.snappy.parquet",
         "part-00000-20659ec9-d55a-48ab-8884-b776c9995954.c000.snappy.parquet",
         2648079,
         1731661082000
        ],
        [
         "dbfs:/mnt/delta/tables/silver/users/part-00000-31e5504f-465b-41fd-bbd8-e5dc42a03783.c000.snappy.parquet",
         "part-00000-31e5504f-465b-41fd-bbd8-e5dc42a03783.c000.snappy.parquet",
         1517597,
         1731660755000
        ],
        [
         "dbfs:/mnt/delta/tables/silver/users/part-00000-41b89153-d6d9-4c47-b8e5-bd297dfcc9aa.c000.snappy.parquet",
         "part-00000-41b89153-d6d9-4c47-b8e5-bd297dfcc9aa.c000.snappy.parquet",
         1517595,
         1731660756000
        ],
        [
         "dbfs:/mnt/delta/tables/silver/users/part-00000-7040b622-474b-4cb0-9f07-2b339980549f.c000.snappy.parquet",
         "part-00000-7040b622-474b-4cb0-9f07-2b339980549f.c000.snappy.parquet",
         1517596,
         1731660752000
        ],
        [
         "dbfs:/mnt/delta/tables/silver/users/part-00000-73ca5981-91a0-495e-813d-227231066fa8.c000.snappy.parquet",
         "part-00000-73ca5981-91a0-495e-813d-227231066fa8.c000.snappy.parquet",
         2648079,
         1731661087000
        ],
        [
         "dbfs:/mnt/delta/tables/silver/users/part-00000-9439ba4f-080c-428b-b742-7ba418dc55b8.c000.snappy.parquet",
         "part-00000-9439ba4f-080c-428b-b742-7ba418dc55b8.c000.snappy.parquet",
         1019286,
         1731668855000
        ],
        [
         "dbfs:/mnt/delta/tables/silver/users/part-00000-9c420487-288d-4685-bc07-2c53e70359c8.c000.snappy.parquet",
         "part-00000-9c420487-288d-4685-bc07-2c53e70359c8.c000.snappy.parquet",
         2648079,
         1731661102000
        ],
        [
         "dbfs:/mnt/delta/tables/silver/users/part-00000-9f8a0c6e-c742-4fdb-8dc5-25719e7a2444.c000.snappy.parquet",
         "part-00000-9f8a0c6e-c742-4fdb-8dc5-25719e7a2444.c000.snappy.parquet",
         2648079,
         1731661097000
        ],
        [
         "dbfs:/mnt/delta/tables/silver/users/part-00000-a54d3dab-1a2d-480e-9060-71cc6a22c8e3.c000.snappy.parquet",
         "part-00000-a54d3dab-1a2d-480e-9060-71cc6a22c8e3.c000.snappy.parquet",
         2648079,
         1731661110000
        ],
        [
         "dbfs:/mnt/delta/tables/silver/users/part-00000-c836ed9c-d075-45d0-90cc-96e3a7fa803b.c000.snappy.parquet",
         "part-00000-c836ed9c-d075-45d0-90cc-96e3a7fa803b.c000.snappy.parquet",
         1019317,
         1731660223000
        ],
        [
         "dbfs:/mnt/delta/tables/silver/users/part-00000-e0626ba6-f625-4d43-9c72-fe5cb398d6d9.c000.snappy.parquet",
         "part-00000-e0626ba6-f625-4d43-9c72-fe5cb398d6d9.c000.snappy.parquet",
         518785,
         1731577338000
        ],
        [
         "dbfs:/mnt/delta/tables/silver/users/part-00001-160cb4e9-5442-4a13-ada6-cb974de3aaa0.c000.snappy.parquet",
         "part-00001-160cb4e9-5442-4a13-ada6-cb974de3aaa0.c000.snappy.parquet",
         1092461,
         1731660752000
        ],
        [
         "dbfs:/mnt/delta/tables/silver/users/part-00001-19b439ef-40b8-4a47-833f-d4386666c32f.c000.snappy.parquet",
         "part-00001-19b439ef-40b8-4a47-833f-d4386666c32f.c000.snappy.parquet",
         1021305,
         1731668855000
        ],
        [
         "dbfs:/mnt/delta/tables/silver/users/part-00001-360f1f5b-db3c-4402-88a7-5700014d85cb.c000.snappy.parquet",
         "part-00001-360f1f5b-db3c-4402-88a7-5700014d85cb.c000.snappy.parquet",
         1092459,
         1731660732000
        ],
        [
         "dbfs:/mnt/delta/tables/silver/users/part-00001-622c6c97-8409-48d2-837a-f0c238cda66e.c000.snappy.parquet",
         "part-00001-622c6c97-8409-48d2-837a-f0c238cda66e.c000.snappy.parquet",
         1092460,
         1731660756000
        ],
        [
         "dbfs:/mnt/delta/tables/silver/users/part-00001-af33fab3-95d9-4d99-8bbe-05a7a48f7c80.c000.snappy.parquet",
         "part-00001-af33fab3-95d9-4d99-8bbe-05a7a48f7c80.c000.snappy.parquet",
         1092462,
         1731660755000
        ],
        [
         "dbfs:/mnt/delta/tables/silver/users/part-00001-e5f71582-fef8-4330-b4d1-12c5b4cb9d00.c000.snappy.parquet",
         "part-00001-e5f71582-fef8-4330-b4d1-12c5b4cb9d00.c000.snappy.parquet",
         1021336,
         1731660223000
        ],
        [
         "dbfs:/mnt/delta/tables/silver/users/part-00002-488e5ffd-f153-4485-bff9-2e3a69b9bf8a.c000.snappy.parquet",
         "part-00002-488e5ffd-f153-4485-bff9-2e3a69b9bf8a.c000.snappy.parquet",
         520457,
         1731660223000
        ],
        [
         "dbfs:/mnt/delta/tables/silver/users/part-00002-5a65ab43-92a3-48e8-b1c2-dba0e9faaefa.c000.snappy.parquet",
         "part-00002-5a65ab43-92a3-48e8-b1c2-dba0e9faaefa.c000.snappy.parquet",
         657879,
         1731668855000
        ]
       ],
       "datasetInfos": [],
       "dbfsResultPath": null,
       "isJsonSchema": true,
       "metadata": {
        "isDbfsCommandResult": false
       },
       "overflow": false,
       "plotOptions": {
        "customPlotOptions": {},
        "displayType": "table",
        "pivotAggregation": null,
        "pivotColumns": null,
        "xColumns": null,
        "yColumns": null
       },
       "removedWidgets": [],
       "schema": [
        {
         "metadata": "{}",
         "name": "path",
         "type": "\"string\""
        },
        {
         "metadata": "{}",
         "name": "name",
         "type": "\"string\""
        },
        {
         "metadata": "{}",
         "name": "size",
         "type": "\"long\""
        },
        {
         "metadata": "{}",
         "name": "modificationTime",
         "type": "\"long\""
        }
       ],
       "type": "table"
      }
     },
     "output_type": "display_data"
    }
   ],
   "source": [
    "%fs ls \"/mnt/delta/tables/silver/users\""
   ]
  },
  {
   "cell_type": "code",
   "execution_count": 0,
   "metadata": {
    "application/vnd.databricks.v1+cell": {
     "cellMetadata": {
      "byteLimit": 2048000,
      "rowLimit": 10000
     },
     "inputWidgets": {},
     "nuid": "33ecee11-084e-4220-8255-0fba17d12cae",
     "showTitle": false,
     "tableResultSettingsMap": {},
     "title": ""
    }
   },
   "outputs": [
    {
     "output_type": "display_data",
     "data": {
      "text/html": [
       "<style scoped>\n",
       "  .table-result-container {\n",
       "    max-height: 300px;\n",
       "    overflow: auto;\n",
       "  }\n",
       "  table, th, td {\n",
       "    border: 1px solid black;\n",
       "    border-collapse: collapse;\n",
       "  }\n",
       "  th, td {\n",
       "    padding: 5px;\n",
       "  }\n",
       "  th {\n",
       "    text-align: left;\n",
       "  }\n",
       "</style><div class='table-result-container'><table class='table-result'><thead style='background-color: white'><tr><th>path</th><th>name</th><th>size</th><th>modificationTime</th></tr></thead><tbody><tr><td>dbfs:/mnt/delta/tables/silver/countries/_delta_log/</td><td>_delta_log/</td><td>0</td><td>1731577849000</td></tr><tr><td>dbfs:/mnt/delta/tables/silver/countries/part-00000-05fee6c5-6a92-44e7-8a0e-1d3745885dff.c000.snappy.parquet</td><td>part-00000-05fee6c5-6a92-44e7-8a0e-1d3745885dff.c000.snappy.parquet</td><td>10249</td><td>1731660770000</td></tr><tr><td>dbfs:/mnt/delta/tables/silver/countries/part-00000-2dfb873f-0198-4cd9-955a-705aa910fe7a.c000.snappy.parquet</td><td>part-00000-2dfb873f-0198-4cd9-955a-705aa910fe7a.c000.snappy.parquet</td><td>10248</td><td>1731660769000</td></tr><tr><td>dbfs:/mnt/delta/tables/silver/countries/part-00000-4952c6d3-8a80-4cf7-951a-c2e005e0a6f7.c000.snappy.parquet</td><td>part-00000-4952c6d3-8a80-4cf7-951a-c2e005e0a6f7.c000.snappy.parquet</td><td>10248</td><td>1731661126000</td></tr><tr><td>dbfs:/mnt/delta/tables/silver/countries/part-00000-4bd4847a-b670-42de-bed9-8aa017bbc516.c000.snappy.parquet</td><td>part-00000-4bd4847a-b670-42de-bed9-8aa017bbc516.c000.snappy.parquet</td><td>10248</td><td>1731661120000</td></tr><tr><td>dbfs:/mnt/delta/tables/silver/countries/part-00000-4da480cb-4510-49f7-9453-ae9c25ab0ceb.c000.snappy.parquet</td><td>part-00000-4da480cb-4510-49f7-9453-ae9c25ab0ceb.c000.snappy.parquet</td><td>10217</td><td>1731668885000</td></tr><tr><td>dbfs:/mnt/delta/tables/silver/countries/part-00000-6e7be2f2-528e-4e62-aba2-64526ebabbda.c000.snappy.parquet</td><td>part-00000-6e7be2f2-528e-4e62-aba2-64526ebabbda.c000.snappy.parquet</td><td>10248</td><td>1731661133000</td></tr><tr><td>dbfs:/mnt/delta/tables/silver/countries/part-00000-74a4b945-161a-49bc-9eba-8ca3b838b474.c000.snappy.parquet</td><td>part-00000-74a4b945-161a-49bc-9eba-8ca3b838b474.c000.snappy.parquet</td><td>10246</td><td>1731660743000</td></tr><tr><td>dbfs:/mnt/delta/tables/silver/countries/part-00000-75419561-07c7-4305-81ee-6c5b723d6f45.c000.snappy.parquet</td><td>part-00000-75419561-07c7-4305-81ee-6c5b723d6f45.c000.snappy.parquet</td><td>10248</td><td>1731660235000</td></tr><tr><td>dbfs:/mnt/delta/tables/silver/countries/part-00000-8301689b-6240-43c3-9e06-5149cfd1f842.c000.snappy.parquet</td><td>part-00000-8301689b-6240-43c3-9e06-5149cfd1f842.c000.snappy.parquet</td><td>10248</td><td>1731661109000</td></tr><tr><td>dbfs:/mnt/delta/tables/silver/countries/part-00000-cc326124-6827-4f54-9cb6-d9c328ffd01f.c000.snappy.parquet</td><td>part-00000-cc326124-6827-4f54-9cb6-d9c328ffd01f.c000.snappy.parquet</td><td>10217</td><td>1731577850000</td></tr><tr><td>dbfs:/mnt/delta/tables/silver/countries/part-00000-f49e06cc-e3ac-4673-917c-61f65591ef54.c000.snappy.parquet</td><td>part-00000-f49e06cc-e3ac-4673-917c-61f65591ef54.c000.snappy.parquet</td><td>10248</td><td>1731661138000</td></tr></tbody></table></div>"
      ]
     },
     "metadata": {
      "application/vnd.databricks.v1+output": {
       "addedWidgets": {},
       "aggData": [],
       "aggError": "",
       "aggOverflow": false,
       "aggSchema": [],
       "aggSeriesLimitReached": false,
       "aggType": "",
       "arguments": {},
       "columnCustomDisplayInfos": {},
       "data": [
        [
         "dbfs:/mnt/delta/tables/silver/countries/_delta_log/",
         "_delta_log/",
         0,
         1731577849000
        ],
        [
         "dbfs:/mnt/delta/tables/silver/countries/part-00000-05fee6c5-6a92-44e7-8a0e-1d3745885dff.c000.snappy.parquet",
         "part-00000-05fee6c5-6a92-44e7-8a0e-1d3745885dff.c000.snappy.parquet",
         10249,
         1731660770000
        ],
        [
         "dbfs:/mnt/delta/tables/silver/countries/part-00000-2dfb873f-0198-4cd9-955a-705aa910fe7a.c000.snappy.parquet",
         "part-00000-2dfb873f-0198-4cd9-955a-705aa910fe7a.c000.snappy.parquet",
         10248,
         1731660769000
        ],
        [
         "dbfs:/mnt/delta/tables/silver/countries/part-00000-4952c6d3-8a80-4cf7-951a-c2e005e0a6f7.c000.snappy.parquet",
         "part-00000-4952c6d3-8a80-4cf7-951a-c2e005e0a6f7.c000.snappy.parquet",
         10248,
         1731661126000
        ],
        [
         "dbfs:/mnt/delta/tables/silver/countries/part-00000-4bd4847a-b670-42de-bed9-8aa017bbc516.c000.snappy.parquet",
         "part-00000-4bd4847a-b670-42de-bed9-8aa017bbc516.c000.snappy.parquet",
         10248,
         1731661120000
        ],
        [
         "dbfs:/mnt/delta/tables/silver/countries/part-00000-4da480cb-4510-49f7-9453-ae9c25ab0ceb.c000.snappy.parquet",
         "part-00000-4da480cb-4510-49f7-9453-ae9c25ab0ceb.c000.snappy.parquet",
         10217,
         1731668885000
        ],
        [
         "dbfs:/mnt/delta/tables/silver/countries/part-00000-6e7be2f2-528e-4e62-aba2-64526ebabbda.c000.snappy.parquet",
         "part-00000-6e7be2f2-528e-4e62-aba2-64526ebabbda.c000.snappy.parquet",
         10248,
         1731661133000
        ],
        [
         "dbfs:/mnt/delta/tables/silver/countries/part-00000-74a4b945-161a-49bc-9eba-8ca3b838b474.c000.snappy.parquet",
         "part-00000-74a4b945-161a-49bc-9eba-8ca3b838b474.c000.snappy.parquet",
         10246,
         1731660743000
        ],
        [
         "dbfs:/mnt/delta/tables/silver/countries/part-00000-75419561-07c7-4305-81ee-6c5b723d6f45.c000.snappy.parquet",
         "part-00000-75419561-07c7-4305-81ee-6c5b723d6f45.c000.snappy.parquet",
         10248,
         1731660235000
        ],
        [
         "dbfs:/mnt/delta/tables/silver/countries/part-00000-8301689b-6240-43c3-9e06-5149cfd1f842.c000.snappy.parquet",
         "part-00000-8301689b-6240-43c3-9e06-5149cfd1f842.c000.snappy.parquet",
         10248,
         1731661109000
        ],
        [
         "dbfs:/mnt/delta/tables/silver/countries/part-00000-cc326124-6827-4f54-9cb6-d9c328ffd01f.c000.snappy.parquet",
         "part-00000-cc326124-6827-4f54-9cb6-d9c328ffd01f.c000.snappy.parquet",
         10217,
         1731577850000
        ],
        [
         "dbfs:/mnt/delta/tables/silver/countries/part-00000-f49e06cc-e3ac-4673-917c-61f65591ef54.c000.snappy.parquet",
         "part-00000-f49e06cc-e3ac-4673-917c-61f65591ef54.c000.snappy.parquet",
         10248,
         1731661138000
        ]
       ],
       "datasetInfos": [],
       "dbfsResultPath": null,
       "isJsonSchema": true,
       "metadata": {
        "isDbfsCommandResult": false
       },
       "overflow": false,
       "plotOptions": {
        "customPlotOptions": {},
        "displayType": "table",
        "pivotAggregation": null,
        "pivotColumns": null,
        "xColumns": null,
        "yColumns": null
       },
       "removedWidgets": [],
       "schema": [
        {
         "metadata": "{}",
         "name": "path",
         "type": "\"string\""
        },
        {
         "metadata": "{}",
         "name": "name",
         "type": "\"string\""
        },
        {
         "metadata": "{}",
         "name": "size",
         "type": "\"long\""
        },
        {
         "metadata": "{}",
         "name": "modificationTime",
         "type": "\"long\""
        }
       ],
       "type": "table"
      }
     },
     "output_type": "display_data"
    }
   ],
   "source": [
    "%fs ls \"/mnt/delta/tables/silver/countries\""
   ]
  },
  {
   "cell_type": "code",
   "execution_count": 0,
   "metadata": {
    "application/vnd.databricks.v1+cell": {
     "cellMetadata": {
      "byteLimit": 2048000,
      "rowLimit": 10000
     },
     "inputWidgets": {},
     "nuid": "df13406c-0c7a-41f9-980c-6b311050b57f",
     "showTitle": false,
     "tableResultSettingsMap": {},
     "title": ""
    }
   },
   "outputs": [
    {
     "output_type": "display_data",
     "data": {
      "text/html": [
       "<style scoped>\n",
       "  .table-result-container {\n",
       "    max-height: 300px;\n",
       "    overflow: auto;\n",
       "  }\n",
       "  table, th, td {\n",
       "    border: 1px solid black;\n",
       "    border-collapse: collapse;\n",
       "  }\n",
       "  th, td {\n",
       "    padding: 5px;\n",
       "  }\n",
       "  th {\n",
       "    text-align: left;\n",
       "  }\n",
       "</style><div class='table-result-container'><table class='table-result'><thead style='background-color: white'><tr><th>path</th><th>name</th><th>size</th><th>modificationTime</th></tr></thead><tbody><tr><td>dbfs:/mnt/delta/tables/silver/sellers/_delta_log/</td><td>_delta_log/</td><td>0</td><td>1731577718000</td></tr><tr><td>dbfs:/mnt/delta/tables/silver/sellers/part-00000-01138934-2cf2-4b6c-951d-ebf4f634ca8b.c000.snappy.parquet</td><td>part-00000-01138934-2cf2-4b6c-951d-ebf4f634ca8b.c000.snappy.parquet</td><td>11539</td><td>1731661119000</td></tr><tr><td>dbfs:/mnt/delta/tables/silver/sellers/part-00000-016f57ed-02bf-47ad-bbd7-b8ea38074bc3.c000.snappy.parquet</td><td>part-00000-016f57ed-02bf-47ad-bbd7-b8ea38074bc3.c000.snappy.parquet</td><td>11540</td><td>1731660766000</td></tr><tr><td>dbfs:/mnt/delta/tables/silver/sellers/part-00000-5e007c0e-7f27-4606-848d-62d4cb8ac482.c000.snappy.parquet</td><td>part-00000-5e007c0e-7f27-4606-848d-62d4cb8ac482.c000.snappy.parquet</td><td>11508</td><td>1731577718000</td></tr><tr><td>dbfs:/mnt/delta/tables/silver/sellers/part-00000-8fd48ea2-8acc-4f74-bb45-f464f32576a8.c000.snappy.parquet</td><td>part-00000-8fd48ea2-8acc-4f74-bb45-f464f32576a8.c000.snappy.parquet</td><td>11508</td><td>1731668878000</td></tr><tr><td>dbfs:/mnt/delta/tables/silver/sellers/part-00000-ad96291b-e894-42cf-a6a8-0317693abba2.c000.snappy.parquet</td><td>part-00000-ad96291b-e894-42cf-a6a8-0317693abba2.c000.snappy.parquet</td><td>11539</td><td>1731661097000</td></tr><tr><td>dbfs:/mnt/delta/tables/silver/sellers/part-00000-bc9f9df4-3caa-4d62-b79d-472c528a9844.c000.snappy.parquet</td><td>part-00000-bc9f9df4-3caa-4d62-b79d-472c528a9844.c000.snappy.parquet</td><td>11539</td><td>1731661125000</td></tr><tr><td>dbfs:/mnt/delta/tables/silver/sellers/part-00000-c9c56025-d8b4-484d-95ff-f4c3b9055995.c000.snappy.parquet</td><td>part-00000-c9c56025-d8b4-484d-95ff-f4c3b9055995.c000.snappy.parquet</td><td>11539</td><td>1731660764000</td></tr><tr><td>dbfs:/mnt/delta/tables/silver/sellers/part-00000-dc1ea2ec-2b45-4c3b-a98b-b01819a953d6.c000.snappy.parquet</td><td>part-00000-dc1ea2ec-2b45-4c3b-a98b-b01819a953d6.c000.snappy.parquet</td><td>11539</td><td>1731661110000</td></tr><tr><td>dbfs:/mnt/delta/tables/silver/sellers/part-00000-e36d620f-a34e-42c8-a159-faf3740be56c.c000.snappy.parquet</td><td>part-00000-e36d620f-a34e-42c8-a159-faf3740be56c.c000.snappy.parquet</td><td>11539</td><td>1731660232000</td></tr><tr><td>dbfs:/mnt/delta/tables/silver/sellers/part-00000-f3a15b68-4c8a-45ec-ad1a-db327013ec69.c000.snappy.parquet</td><td>part-00000-f3a15b68-4c8a-45ec-ad1a-db327013ec69.c000.snappy.parquet</td><td>11537</td><td>1731660740000</td></tr><tr><td>dbfs:/mnt/delta/tables/silver/sellers/part-00000-fed173e7-010f-41ec-9f84-eb12e29ee173.c000.snappy.parquet</td><td>part-00000-fed173e7-010f-41ec-9f84-eb12e29ee173.c000.snappy.parquet</td><td>11539</td><td>1731661130000</td></tr></tbody></table></div>"
      ]
     },
     "metadata": {
      "application/vnd.databricks.v1+output": {
       "addedWidgets": {},
       "aggData": [],
       "aggError": "",
       "aggOverflow": false,
       "aggSchema": [],
       "aggSeriesLimitReached": false,
       "aggType": "",
       "arguments": {},
       "columnCustomDisplayInfos": {},
       "data": [
        [
         "dbfs:/mnt/delta/tables/silver/sellers/_delta_log/",
         "_delta_log/",
         0,
         1731577718000
        ],
        [
         "dbfs:/mnt/delta/tables/silver/sellers/part-00000-01138934-2cf2-4b6c-951d-ebf4f634ca8b.c000.snappy.parquet",
         "part-00000-01138934-2cf2-4b6c-951d-ebf4f634ca8b.c000.snappy.parquet",
         11539,
         1731661119000
        ],
        [
         "dbfs:/mnt/delta/tables/silver/sellers/part-00000-016f57ed-02bf-47ad-bbd7-b8ea38074bc3.c000.snappy.parquet",
         "part-00000-016f57ed-02bf-47ad-bbd7-b8ea38074bc3.c000.snappy.parquet",
         11540,
         1731660766000
        ],
        [
         "dbfs:/mnt/delta/tables/silver/sellers/part-00000-5e007c0e-7f27-4606-848d-62d4cb8ac482.c000.snappy.parquet",
         "part-00000-5e007c0e-7f27-4606-848d-62d4cb8ac482.c000.snappy.parquet",
         11508,
         1731577718000
        ],
        [
         "dbfs:/mnt/delta/tables/silver/sellers/part-00000-8fd48ea2-8acc-4f74-bb45-f464f32576a8.c000.snappy.parquet",
         "part-00000-8fd48ea2-8acc-4f74-bb45-f464f32576a8.c000.snappy.parquet",
         11508,
         1731668878000
        ],
        [
         "dbfs:/mnt/delta/tables/silver/sellers/part-00000-ad96291b-e894-42cf-a6a8-0317693abba2.c000.snappy.parquet",
         "part-00000-ad96291b-e894-42cf-a6a8-0317693abba2.c000.snappy.parquet",
         11539,
         1731661097000
        ],
        [
         "dbfs:/mnt/delta/tables/silver/sellers/part-00000-bc9f9df4-3caa-4d62-b79d-472c528a9844.c000.snappy.parquet",
         "part-00000-bc9f9df4-3caa-4d62-b79d-472c528a9844.c000.snappy.parquet",
         11539,
         1731661125000
        ],
        [
         "dbfs:/mnt/delta/tables/silver/sellers/part-00000-c9c56025-d8b4-484d-95ff-f4c3b9055995.c000.snappy.parquet",
         "part-00000-c9c56025-d8b4-484d-95ff-f4c3b9055995.c000.snappy.parquet",
         11539,
         1731660764000
        ],
        [
         "dbfs:/mnt/delta/tables/silver/sellers/part-00000-dc1ea2ec-2b45-4c3b-a98b-b01819a953d6.c000.snappy.parquet",
         "part-00000-dc1ea2ec-2b45-4c3b-a98b-b01819a953d6.c000.snappy.parquet",
         11539,
         1731661110000
        ],
        [
         "dbfs:/mnt/delta/tables/silver/sellers/part-00000-e36d620f-a34e-42c8-a159-faf3740be56c.c000.snappy.parquet",
         "part-00000-e36d620f-a34e-42c8-a159-faf3740be56c.c000.snappy.parquet",
         11539,
         1731660232000
        ],
        [
         "dbfs:/mnt/delta/tables/silver/sellers/part-00000-f3a15b68-4c8a-45ec-ad1a-db327013ec69.c000.snappy.parquet",
         "part-00000-f3a15b68-4c8a-45ec-ad1a-db327013ec69.c000.snappy.parquet",
         11537,
         1731660740000
        ],
        [
         "dbfs:/mnt/delta/tables/silver/sellers/part-00000-fed173e7-010f-41ec-9f84-eb12e29ee173.c000.snappy.parquet",
         "part-00000-fed173e7-010f-41ec-9f84-eb12e29ee173.c000.snappy.parquet",
         11539,
         1731661130000
        ]
       ],
       "datasetInfos": [],
       "dbfsResultPath": null,
       "isJsonSchema": true,
       "metadata": {
        "isDbfsCommandResult": false
       },
       "overflow": false,
       "plotOptions": {
        "customPlotOptions": {},
        "displayType": "table",
        "pivotAggregation": null,
        "pivotColumns": null,
        "xColumns": null,
        "yColumns": null
       },
       "removedWidgets": [],
       "schema": [
        {
         "metadata": "{}",
         "name": "path",
         "type": "\"string\""
        },
        {
         "metadata": "{}",
         "name": "name",
         "type": "\"string\""
        },
        {
         "metadata": "{}",
         "name": "size",
         "type": "\"long\""
        },
        {
         "metadata": "{}",
         "name": "modificationTime",
         "type": "\"long\""
        }
       ],
       "type": "table"
      }
     },
     "output_type": "display_data"
    }
   ],
   "source": [
    "%fs ls \"/mnt/delta/tables/silver/sellers\""
   ]
  },
  {
   "cell_type": "code",
   "execution_count": 0,
   "metadata": {
    "application/vnd.databricks.v1+cell": {
     "cellMetadata": {
      "byteLimit": 2048000,
      "rowLimit": 10000
     },
     "inputWidgets": {},
     "nuid": "573b39d9-b9c8-4d04-a4b9-ec51d4634970",
     "showTitle": false,
     "tableResultSettingsMap": {},
     "title": ""
    }
   },
   "outputs": [
    {
     "output_type": "display_data",
     "data": {
      "text/html": [
       "<style scoped>\n",
       "  .table-result-container {\n",
       "    max-height: 300px;\n",
       "    overflow: auto;\n",
       "  }\n",
       "  table, th, td {\n",
       "    border: 1px solid black;\n",
       "    border-collapse: collapse;\n",
       "  }\n",
       "  th, td {\n",
       "    padding: 5px;\n",
       "  }\n",
       "  th {\n",
       "    text-align: left;\n",
       "  }\n",
       "</style><div class='table-result-container'><table class='table-result'><thead style='background-color: white'><tr><th>path</th><th>name</th><th>size</th><th>modificationTime</th></tr></thead><tbody><tr><td>dbfs:/mnt/delta/tables/silver/buyers/_delta_log/</td><td>_delta_log/</td><td>0</td><td>1731577557000</td></tr><tr><td>dbfs:/mnt/delta/tables/silver/buyers/part-00000-16d880e0-4b02-4ca4-8e0c-35321765898f.c000.snappy.parquet</td><td>part-00000-16d880e0-4b02-4ca4-8e0c-35321765898f.c000.snappy.parquet</td><td>16086</td><td>1731668865000</td></tr><tr><td>dbfs:/mnt/delta/tables/silver/buyers/part-00000-195e9553-b5e2-4455-8df0-57006300c49d.c000.snappy.parquet</td><td>part-00000-195e9553-b5e2-4455-8df0-57006300c49d.c000.snappy.parquet</td><td>16115</td><td>1731660736000</td></tr><tr><td>dbfs:/mnt/delta/tables/silver/buyers/part-00000-4368d5da-1b35-4370-aea8-3e15e44e50a8.c000.snappy.parquet</td><td>part-00000-4368d5da-1b35-4370-aea8-3e15e44e50a8.c000.snappy.parquet</td><td>16086</td><td>1731577558000</td></tr><tr><td>dbfs:/mnt/delta/tables/silver/buyers/part-00000-453d0b85-0c3c-496a-aa36-fb749ba98016.c000.snappy.parquet</td><td>part-00000-453d0b85-0c3c-496a-aa36-fb749ba98016.c000.snappy.parquet</td><td>16117</td><td>1731661115000</td></tr><tr><td>dbfs:/mnt/delta/tables/silver/buyers/part-00000-48ffa411-7537-4ca4-9aba-7cdd9867d9d1.c000.snappy.parquet</td><td>part-00000-48ffa411-7537-4ca4-9aba-7cdd9867d9d1.c000.snappy.parquet</td><td>16117</td><td>1731661110000</td></tr><tr><td>dbfs:/mnt/delta/tables/silver/buyers/part-00000-4fdd104c-7ee6-4ae6-b05a-7e79e5790d88.c000.snappy.parquet</td><td>part-00000-4fdd104c-7ee6-4ae6-b05a-7e79e5790d88.c000.snappy.parquet</td><td>16117</td><td>1731660228000</td></tr><tr><td>dbfs:/mnt/delta/tables/silver/buyers/part-00000-aa7f7fbc-2e1f-4583-b0dd-c09631e42a0d.c000.snappy.parquet</td><td>part-00000-aa7f7fbc-2e1f-4583-b0dd-c09631e42a0d.c000.snappy.parquet</td><td>16118</td><td>1731660761000</td></tr><tr><td>dbfs:/mnt/delta/tables/silver/buyers/part-00000-d345fd0b-f7e2-4db8-8558-cbd8b59ed4ca.c000.snappy.parquet</td><td>part-00000-d345fd0b-f7e2-4db8-8558-cbd8b59ed4ca.c000.snappy.parquet</td><td>16117</td><td>1731660759000</td></tr><tr><td>dbfs:/mnt/delta/tables/silver/buyers/part-00000-e825e8d8-8f5b-4b36-b285-0bb632f4464d.c000.snappy.parquet</td><td>part-00000-e825e8d8-8f5b-4b36-b285-0bb632f4464d.c000.snappy.parquet</td><td>16117</td><td>1731661100000</td></tr><tr><td>dbfs:/mnt/delta/tables/silver/buyers/part-00000-e9cc5ee2-a82e-445d-8f47-90a6dcf2e417.c000.snappy.parquet</td><td>part-00000-e9cc5ee2-a82e-445d-8f47-90a6dcf2e417.c000.snappy.parquet</td><td>16117</td><td>1731661089000</td></tr><tr><td>dbfs:/mnt/delta/tables/silver/buyers/part-00000-fb334e01-7773-4ef6-9bec-d44682b2007d.c000.snappy.parquet</td><td>part-00000-fb334e01-7773-4ef6-9bec-d44682b2007d.c000.snappy.parquet</td><td>16117</td><td>1731661121000</td></tr></tbody></table></div>"
      ]
     },
     "metadata": {
      "application/vnd.databricks.v1+output": {
       "addedWidgets": {},
       "aggData": [],
       "aggError": "",
       "aggOverflow": false,
       "aggSchema": [],
       "aggSeriesLimitReached": false,
       "aggType": "",
       "arguments": {},
       "columnCustomDisplayInfos": {},
       "data": [
        [
         "dbfs:/mnt/delta/tables/silver/buyers/_delta_log/",
         "_delta_log/",
         0,
         1731577557000
        ],
        [
         "dbfs:/mnt/delta/tables/silver/buyers/part-00000-16d880e0-4b02-4ca4-8e0c-35321765898f.c000.snappy.parquet",
         "part-00000-16d880e0-4b02-4ca4-8e0c-35321765898f.c000.snappy.parquet",
         16086,
         1731668865000
        ],
        [
         "dbfs:/mnt/delta/tables/silver/buyers/part-00000-195e9553-b5e2-4455-8df0-57006300c49d.c000.snappy.parquet",
         "part-00000-195e9553-b5e2-4455-8df0-57006300c49d.c000.snappy.parquet",
         16115,
         1731660736000
        ],
        [
         "dbfs:/mnt/delta/tables/silver/buyers/part-00000-4368d5da-1b35-4370-aea8-3e15e44e50a8.c000.snappy.parquet",
         "part-00000-4368d5da-1b35-4370-aea8-3e15e44e50a8.c000.snappy.parquet",
         16086,
         1731577558000
        ],
        [
         "dbfs:/mnt/delta/tables/silver/buyers/part-00000-453d0b85-0c3c-496a-aa36-fb749ba98016.c000.snappy.parquet",
         "part-00000-453d0b85-0c3c-496a-aa36-fb749ba98016.c000.snappy.parquet",
         16117,
         1731661115000
        ],
        [
         "dbfs:/mnt/delta/tables/silver/buyers/part-00000-48ffa411-7537-4ca4-9aba-7cdd9867d9d1.c000.snappy.parquet",
         "part-00000-48ffa411-7537-4ca4-9aba-7cdd9867d9d1.c000.snappy.parquet",
         16117,
         1731661110000
        ],
        [
         "dbfs:/mnt/delta/tables/silver/buyers/part-00000-4fdd104c-7ee6-4ae6-b05a-7e79e5790d88.c000.snappy.parquet",
         "part-00000-4fdd104c-7ee6-4ae6-b05a-7e79e5790d88.c000.snappy.parquet",
         16117,
         1731660228000
        ],
        [
         "dbfs:/mnt/delta/tables/silver/buyers/part-00000-aa7f7fbc-2e1f-4583-b0dd-c09631e42a0d.c000.snappy.parquet",
         "part-00000-aa7f7fbc-2e1f-4583-b0dd-c09631e42a0d.c000.snappy.parquet",
         16118,
         1731660761000
        ],
        [
         "dbfs:/mnt/delta/tables/silver/buyers/part-00000-d345fd0b-f7e2-4db8-8558-cbd8b59ed4ca.c000.snappy.parquet",
         "part-00000-d345fd0b-f7e2-4db8-8558-cbd8b59ed4ca.c000.snappy.parquet",
         16117,
         1731660759000
        ],
        [
         "dbfs:/mnt/delta/tables/silver/buyers/part-00000-e825e8d8-8f5b-4b36-b285-0bb632f4464d.c000.snappy.parquet",
         "part-00000-e825e8d8-8f5b-4b36-b285-0bb632f4464d.c000.snappy.parquet",
         16117,
         1731661100000
        ],
        [
         "dbfs:/mnt/delta/tables/silver/buyers/part-00000-e9cc5ee2-a82e-445d-8f47-90a6dcf2e417.c000.snappy.parquet",
         "part-00000-e9cc5ee2-a82e-445d-8f47-90a6dcf2e417.c000.snappy.parquet",
         16117,
         1731661089000
        ],
        [
         "dbfs:/mnt/delta/tables/silver/buyers/part-00000-fb334e01-7773-4ef6-9bec-d44682b2007d.c000.snappy.parquet",
         "part-00000-fb334e01-7773-4ef6-9bec-d44682b2007d.c000.snappy.parquet",
         16117,
         1731661121000
        ]
       ],
       "datasetInfos": [],
       "dbfsResultPath": null,
       "isJsonSchema": true,
       "metadata": {
        "isDbfsCommandResult": false
       },
       "overflow": false,
       "plotOptions": {
        "customPlotOptions": {},
        "displayType": "table",
        "pivotAggregation": null,
        "pivotColumns": null,
        "xColumns": null,
        "yColumns": null
       },
       "removedWidgets": [],
       "schema": [
        {
         "metadata": "{}",
         "name": "path",
         "type": "\"string\""
        },
        {
         "metadata": "{}",
         "name": "name",
         "type": "\"string\""
        },
        {
         "metadata": "{}",
         "name": "size",
         "type": "\"long\""
        },
        {
         "metadata": "{}",
         "name": "modificationTime",
         "type": "\"long\""
        }
       ],
       "type": "table"
      }
     },
     "output_type": "display_data"
    }
   ],
   "source": [
    "%fs ls \"/mnt/delta/tables/silver/buyers\""
   ]
  },
  {
   "cell_type": "code",
   "execution_count": 0,
   "metadata": {
    "application/vnd.databricks.v1+cell": {
     "cellMetadata": {},
     "inputWidgets": {},
     "nuid": "6c22eaa4-8457-4688-8715-b4bc48fa9ff5",
     "showTitle": false,
     "tableResultSettingsMap": {},
     "title": ""
    }
   },
   "outputs": [],
   "source": []
  }
 ],
 "metadata": {
  "application/vnd.databricks.v1+notebook": {
   "dashboards": [],
   "environmentMetadata": {
    "base_environment": "",
    "client": "1"
   },
   "language": "python",
   "notebookMetadata": {
    "mostRecentlyExecutedCommandWithImplicitDF": {
     "commandId": 3095985675979688,
     "dataframes": [
      "_sqldf"
     ]
    },
    "pythonIndentUnit": 2
   },
   "notebookName": "Silver_Layer",
   "widgets": {}
  },
  "language_info": {
   "name": "python"
  }
 },
 "nbformat": 4,
 "nbformat_minor": 0
}